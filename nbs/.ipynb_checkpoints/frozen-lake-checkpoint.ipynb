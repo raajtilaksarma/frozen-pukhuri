{
 "cells": [
  {
   "cell_type": "code",
   "execution_count": 1,
   "metadata": {},
   "outputs": [],
   "source": [
    "import sys\n",
    "import gym\n",
    "import numpy as np\n",
    "import random\n",
    "import time\n",
    "from io import StringIO\n",
    "from IPython.display import clear_output"
   ]
  },
  {
   "cell_type": "code",
   "execution_count": 2,
   "metadata": {},
   "outputs": [],
   "source": [
    "color2num = dict(\n",
    "    gray=30,\n",
    "    red=31,\n",
    "    green=32,\n",
    "    yellow=33,\n",
    "    blue=34,\n",
    "    magenta=35,\n",
    "    cyan=36,\n",
    "    white=37,\n",
    "    crimson=38\n",
    ")\n",
    "\n",
    "\n",
    "def colorize(string, color, bold=False, highlight = False):\n",
    "    \"\"\"Return string surrounded by appropriate terminal color codes to\n",
    "    print colorized text.  Valid colors: gray, red, green, yellow,\n",
    "    blue, magenta, cyan, white, crimson\n",
    "    \"\"\"\n",
    "\n",
    "    attr = []\n",
    "    num = color2num[color]\n",
    "    if highlight: num += 10\n",
    "    attr.append(str(num))\n",
    "    if bold: attr.append('1')\n",
    "    attrs = ';'.join(attr)\n",
    "    return '\\x1b[%sm%s\\x1b[0m' % (attrs, string)"
   ]
  },
  {
   "cell_type": "code",
   "execution_count": 3,
   "metadata": {},
   "outputs": [],
   "source": [
    "# Q-Learning\n",
    "env = gym.make(\"FrozenLake-v0\")\n",
    "action_space_size = env.action_space.n\n",
    "state_space_size = env.observation_space.n\n",
    "q_table = np.zeros((state_space_size, action_space_size))\n",
    "# print(q_table)\n",
    "\n",
    "num_episodes = 10000\n",
    "max_steps_per_episode = 100\n",
    "\n",
    "learning_rate = 0.1\n",
    "discount_rate = 0.99\n",
    "\n",
    "exploration_rate = 1\n",
    "max_exploration_rate = 1\n",
    "min_exploration_rate = 0.01\n",
    "exploration_decay_rate = 0.001\n",
    "rewards_all_episodes = []"
   ]
  },
  {
   "cell_type": "code",
   "execution_count": 4,
   "metadata": {},
   "outputs": [
    {
     "name": "stdout",
     "output_type": "stream",
     "text": [
      "Avg reward per thousand episodes. . .\n",
      "1000 : 0.047\n",
      "2000 : 0.239\n",
      "3000 : 0.395\n",
      "4000 : 0.585\n",
      "5000 : 0.625\n",
      "6000 : 0.628\n",
      "7000 : 0.655\n",
      "8000 : 0.674\n",
      "9000 : 0.656\n",
      "10000 : 0.657\n",
      "Final Q-table. . .\n",
      "[[0.57458138 0.47220179 0.47440993 0.46100452]\n",
      " [0.2755426  0.24692047 0.20380788 0.45404105]\n",
      " [0.40447248 0.28380283 0.26674807 0.28307903]\n",
      " [0.05105296 0.20669668 0.03184018 0.1004704 ]\n",
      " [0.62331392 0.38040862 0.32412654 0.40928712]\n",
      " [0.         0.         0.         0.        ]\n",
      " [0.15360931 0.15024066 0.33161897 0.09272874]\n",
      " [0.         0.         0.         0.        ]\n",
      " [0.33794472 0.3923832  0.22171078 0.66283106]\n",
      " [0.47758364 0.70038628 0.32993201 0.4554218 ]\n",
      " [0.70571168 0.39486607 0.39731624 0.27979856]\n",
      " [0.         0.         0.         0.        ]\n",
      " [0.         0.         0.         0.        ]\n",
      " [0.56894628 0.6020162  0.7921399  0.57388378]\n",
      " [0.71696434 0.88976479 0.7656382  0.72932225]\n",
      " [0.         0.         0.         0.        ]]\n"
     ]
    }
   ],
   "source": [
    "for episode in range(num_episodes):\n",
    "#     print('Episode no:'+str(episode+1))\n",
    "    state = env.reset()\n",
    "    done = False\n",
    "    rewards_current_episode = 0\n",
    "    for step in range(max_steps_per_episode):\n",
    "        # trading off between exploration and exploitation\n",
    "        exploration_rate_threshold = random.uniform(0,1)\n",
    "        if exploration_rate_threshold > exploration_rate and ~np.all(q_table[state,:]==0):\n",
    "            # exploit\n",
    "            action = np.argmax(q_table[state, :])\n",
    "        else:\n",
    "            # explore\n",
    "            action = env.action_space.sample()\n",
    "        new_state, reward, done, info = env.step(action)\n",
    "        # update Q-table\n",
    "        q_table[state, action] = q_table[state, action]*(1-learning_rate) + \\\n",
    "                            learning_rate * (reward + discount_rate*np.max(q_table[new_state, :]))\n",
    "        state = new_state\n",
    "        rewards_current_episode += reward\n",
    "        if done==True:\n",
    "            break\n",
    "    exploration_rate = min_exploration_rate + (max_exploration_rate-min_exploration_rate)*np.exp(-exploration_decay_rate*episode)\n",
    "    rewards_all_episodes.append(rewards_current_episode)\n",
    "\n",
    "rewards_per_thousand_episodes = np.split(np.array(rewards_all_episodes), num_episodes/1000)\n",
    "count = 1000\n",
    "print('Avg reward per thousand episodes. . .')\n",
    "for r in rewards_per_thousand_episodes:\n",
    "    print(str(count) + \" : \" + str(sum(r)/1000) )\n",
    "    count+=1000\n",
    "print('Final Q-table. . .')\n",
    "print(q_table)"
   ]
  },
  {
   "cell_type": "code",
   "execution_count": 5,
   "metadata": {},
   "outputs": [],
   "source": [
    "np.save('q_table.npy', q_table)"
   ]
  },
  {
   "cell_type": "code",
   "execution_count": 6,
   "metadata": {},
   "outputs": [
    {
     "data": {
      "text/plain": [
       "array([[0.57458138, 0.47220179, 0.47440993, 0.46100452],\n",
       "       [0.2755426 , 0.24692047, 0.20380788, 0.45404105],\n",
       "       [0.40447248, 0.28380283, 0.26674807, 0.28307903],\n",
       "       [0.05105296, 0.20669668, 0.03184018, 0.1004704 ],\n",
       "       [0.62331392, 0.38040862, 0.32412654, 0.40928712],\n",
       "       [0.        , 0.        , 0.        , 0.        ],\n",
       "       [0.15360931, 0.15024066, 0.33161897, 0.09272874],\n",
       "       [0.        , 0.        , 0.        , 0.        ],\n",
       "       [0.33794472, 0.3923832 , 0.22171078, 0.66283106],\n",
       "       [0.47758364, 0.70038628, 0.32993201, 0.4554218 ],\n",
       "       [0.70571168, 0.39486607, 0.39731624, 0.27979856],\n",
       "       [0.        , 0.        , 0.        , 0.        ],\n",
       "       [0.        , 0.        , 0.        , 0.        ],\n",
       "       [0.56894628, 0.6020162 , 0.7921399 , 0.57388378],\n",
       "       [0.71696434, 0.88976479, 0.7656382 , 0.72932225],\n",
       "       [0.        , 0.        , 0.        , 0.        ]])"
      ]
     },
     "execution_count": 6,
     "metadata": {},
     "output_type": "execute_result"
    }
   ],
   "source": [
    "q_table = np.load('q_table.npy')\n",
    "q_table"
   ]
  },
  {
   "cell_type": "code",
   "execution_count": 7,
   "metadata": {},
   "outputs": [],
   "source": [
    "def get_position(env, mode='human'):\n",
    "#     outfile = StringIO() if mode == 'ansi' else sys.stdout\n",
    "\n",
    "    row, col = env.s // env.ncol, env.s % env.ncol\n",
    "    desc = env.desc.tolist()\n",
    "    desc = [[c.decode('utf-8') for c in line] for line in desc]\n",
    "    return row, col\n",
    "#     print(row, col)\n",
    "#     desc[row][col] = colorize(desc[row][col], \"red\", highlight=True)\n",
    "#     if env.lastaction is not None:\n",
    "#         outfile.write(\"  ({})\\n\".format(\n",
    "#             [\"Left\", \"Down\", \"Right\", \"Up\"][env.lastaction]))\n",
    "#     else:\n",
    "#         outfile.write(\"\\n\")\n",
    "#     outfile.write(\"\\n\".join(''.join(line) for line in desc)+\"\\n\")\n",
    "\n",
    "#     if mode != 'human':\n",
    "#         with closing(outfile):\n",
    "#             return outfile.getvalue()"
   ]
  },
  {
   "cell_type": "code",
   "execution_count": 9,
   "metadata": {},
   "outputs": [
    {
     "name": "stdout",
     "output_type": "stream",
     "text": [
      "Attempt Number :  5\n",
      "(0, 0)\n",
      "(0, 0)\n",
      "(0, 0)\n",
      "(1, 0)\n",
      "(2, 0)\n",
      "(1, 0)\n",
      "(2, 0)\n",
      "(2, 1)\n",
      "(2, 2)\n",
      "(3, 2)\n",
      "(3, 2)\n",
      "Goal reached. . .\n"
     ]
    }
   ],
   "source": [
    "for episode in range(5):\n",
    "    state = env.reset()\n",
    "    done = False\n",
    "    print(\"Attempt Number : \",episode+1)\n",
    "    time.sleep(1)\n",
    "\n",
    "    for step in range(max_steps_per_episode):\n",
    "#         clear_output(wait=True)\n",
    "        print(get_position(env))\n",
    "#         get_position(env)\n",
    "        time.sleep(0.3)\n",
    "        action = np.argmax(q_table[state, :])\n",
    "        new_state, reward, done, info = env.step(action)\n",
    "\n",
    "        if done:\n",
    "#             clear_output(wait=True)\n",
    "#             get_position(env)\n",
    "            if reward==1:\n",
    "                print(\"Goal reached. . .\")\n",
    "            else:\n",
    "                print(\"Mission failed. . .\")\n",
    "            clear_output(wait=True)\n",
    "            break\n",
    "\n",
    "        state = new_state\n",
    "env.close()"
   ]
  },
  {
   "cell_type": "code",
   "execution_count": null,
   "metadata": {},
   "outputs": [],
   "source": []
  }
 ],
 "metadata": {
  "kernelspec": {
   "display_name": "Python 3",
   "language": "python",
   "name": "python3"
  },
  "language_info": {
   "codemirror_mode": {
    "name": "ipython",
    "version": 3
   },
   "file_extension": ".py",
   "mimetype": "text/x-python",
   "name": "python",
   "nbconvert_exporter": "python",
   "pygments_lexer": "ipython3",
   "version": "3.6.9"
  }
 },
 "nbformat": 4,
 "nbformat_minor": 2
}
