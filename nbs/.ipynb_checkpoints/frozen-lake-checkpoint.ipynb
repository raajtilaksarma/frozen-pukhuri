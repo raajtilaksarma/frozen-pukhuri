{
 "cells": [
  {
   "cell_type": "code",
   "execution_count": 1,
   "metadata": {},
   "outputs": [],
   "source": [
    "import gym\n",
    "import numpy as np\n",
    "import random\n",
    "import time\n",
    "from IPython.display import clear_output"
   ]
  },
  {
   "cell_type": "code",
   "execution_count": 2,
   "metadata": {},
   "outputs": [
    {
     "name": "stdout",
     "output_type": "stream",
     "text": [
      "Avg reward per thousand episodes. . .\n",
      "1000 : 0.231\n",
      "2000 : 0.561\n",
      "3000 : 0.576\n",
      "4000 : 0.63\n",
      "5000 : 0.688\n",
      "6000 : 0.676\n",
      "7000 : 0.673\n",
      "8000 : 0.696\n",
      "9000 : 0.67\n",
      "10000 : 0.681\n",
      "Final Q-table. . .\n",
      "[[0.54292258 0.48026066 0.47226701 0.49610662]\n",
      " [0.2236751  0.2563255  0.06981476 0.42271566]\n",
      " [0.33612264 0.29115505 0.23562108 0.20354756]\n",
      " [0.09051494 0.24189402 0.18898508 0.34176294]\n",
      " [0.56527629 0.43273695 0.32522107 0.386794  ]\n",
      " [0.         0.         0.         0.        ]\n",
      " [0.18223258 0.0837732  0.19446527 0.12911287]\n",
      " [0.         0.         0.         0.        ]\n",
      " [0.42020633 0.43571039 0.37057191 0.58620862]\n",
      " [0.45090382 0.55796938 0.47616046 0.29234182]\n",
      " [0.50021687 0.40335783 0.3647614  0.30572131]\n",
      " [0.         0.         0.         0.        ]\n",
      " [0.         0.         0.         0.        ]\n",
      " [0.52042323 0.38083262 0.72008484 0.44075636]\n",
      " [0.73218503 0.86439344 0.72466958 0.73485743]\n",
      " [0.         0.         0.         0.        ]]\n"
     ]
    }
   ],
   "source": [
    "# Q-Learning\n",
    "env = gym.make(\"FrozenLake-v0\")\n",
    "action_space_size = env.action_space.n\n",
    "state_space_size = env.observation_space.n\n",
    "q_table = np.zeros((state_space_size, action_space_size))\n",
    "# print(q_table)\n",
    "\n",
    "num_episodes = 10000\n",
    "max_steps_per_episode = 100\n",
    "\n",
    "learning_rate = 0.1\n",
    "discount_rate = 0.99\n",
    "\n",
    "exploration_rate = 1\n",
    "max_exploration_rate = 1\n",
    "min_exploration_rate = 0.01\n",
    "exploration_decay_rate = 0.005\n",
    "rewards_all_episodes = []\n",
    "for episode in range(num_episodes):\n",
    "#     print('Episode no:'+str(episode+1))\n",
    "    state = env.reset()\n",
    "    done = False\n",
    "    rewards_current_episode = 0\n",
    "    for step in range(max_steps_per_episode):\n",
    "        # trading off between exploration and exploitation\n",
    "        exploration_rate_threshold = random.uniform(0,1)\n",
    "        if exploration_rate_threshold > exploration_rate and ~np.all(q_table[state,:]==0):\n",
    "            # exploit\n",
    "            action = np.argmax(q_table[state, :])\n",
    "        else:\n",
    "            # explore\n",
    "            action = env.action_space.sample()\n",
    "        new_state, reward, done, info = env.step(action)\n",
    "        # update Q-table\n",
    "        q_table[state, action] = q_table[state, action]*(1-learning_rate) + \\\n",
    "                            learning_rate * (reward + discount_rate*np.max(q_table[new_state, :]))\n",
    "        state = new_state\n",
    "        rewards_current_episode += reward\n",
    "        if done==True:\n",
    "            break\n",
    "    exploration_rate = min_exploration_rate + (max_exploration_rate-min_exploration_rate)*np.exp(-exploration_decay_rate*episode)\n",
    "    rewards_all_episodes.append(rewards_current_episode)\n",
    "\n",
    "rewards_per_thousand_episodes = np.split(np.array(rewards_all_episodes), num_episodes/1000)\n",
    "count = 1000\n",
    "print('Avg reward per thousand episodes. . .')\n",
    "for r in rewards_per_thousand_episodes:\n",
    "    print(str(count) + \" : \" + str(sum(r)/1000) )\n",
    "    count+=1000\n",
    "print('Final Q-table. . .')\n",
    "print(q_table)"
   ]
  },
  {
   "cell_type": "code",
   "execution_count": null,
   "metadata": {},
   "outputs": [
    {
     "name": "stdout",
     "output_type": "stream",
     "text": [
      "  (Down)\n",
      "SFFF\n",
      "FHFH\n",
      "\u001b[41mF\u001b[0mFFH\n",
      "HFFG\n"
     ]
    }
   ],
   "source": [
    "for episode in range(10):\n",
    "    state = env.reset()\n",
    "    done = False\n",
    "    print(\"Attempt Number : \",episode+1)\n",
    "    time.sleep(1)\n",
    "\n",
    "    for step in range(max_steps_per_episode):\n",
    "        clear_output(wait=True)\n",
    "        env.render()\n",
    "        time.sleep(0.3)\n",
    "        action = np.argmax(q_table[state, :])\n",
    "        new_state, reward, done, info = env.step(action)\n",
    "\n",
    "        if done:\n",
    "            clear_output(wait=True)\n",
    "            env.render()\n",
    "            if reward==1:\n",
    "                print(\"Goal reached. . .\")\n",
    "            else:\n",
    "                print(\"Mission failed. . .\")\n",
    "            clear_output(wait=True)\n",
    "            break\n",
    "\n",
    "        state = new_state\n",
    "env.close()"
   ]
  }
 ],
 "metadata": {
  "kernelspec": {
   "display_name": "Python 3",
   "language": "python",
   "name": "python3"
  },
  "language_info": {
   "codemirror_mode": {
    "name": "ipython",
    "version": 3
   },
   "file_extension": ".py",
   "mimetype": "text/x-python",
   "name": "python",
   "nbconvert_exporter": "python",
   "pygments_lexer": "ipython3",
   "version": "3.6.9"
  }
 },
 "nbformat": 4,
 "nbformat_minor": 2
}
