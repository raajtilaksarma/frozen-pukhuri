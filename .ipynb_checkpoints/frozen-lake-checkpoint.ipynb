{
 "cells": [
  {
   "cell_type": "code",
   "execution_count": 1,
   "metadata": {},
   "outputs": [],
   "source": [
    "import gym\n",
    "import numpy as np\n",
    "import random\n",
    "import time\n",
    "from IPython.display import clear_output"
   ]
  },
  {
   "cell_type": "code",
   "execution_count": 2,
   "metadata": {},
   "outputs": [],
   "source": [
    "# Q-Learning\n",
    "def q_learn():\n",
    "    env = gym.make(\"FrozenLake-v0\")\n",
    "    action_space_size = env.action_space.n\n",
    "    state_space_size = env.observation_space.n\n",
    "    q_table = np.zeros((state_space_size, action_space_size))\n",
    "    # print(q_table)\n",
    "\n",
    "    num_episodes = 10000\n",
    "    max_steps_per_episode = 100\n",
    "\n",
    "    learning_rate = 0.1\n",
    "    discount_rate = 0.99\n",
    "\n",
    "    exploration_rate = 1\n",
    "    max_exploration_rate = 1\n",
    "    min_exploration_rate = 0.01\n",
    "    exploration_decay_rate = 0.005\n",
    "    rewards_all_episodes = []\n",
    "    for episode in range(num_episodes):\n",
    "    #     print('Episode no:'+str(episode+1))\n",
    "        state = env.reset()\n",
    "        done = False\n",
    "        rewards_current_episode = 0\n",
    "        for step in range(max_steps_per_episode):\n",
    "            # trading off between exploration and exploitation\n",
    "            exploration_rate_threshold = random.uniform(0,1)\n",
    "            if exploration_rate_threshold > exploration_rate and ~np.all(q_table[state,:]==0):\n",
    "                # exploit\n",
    "                action = np.argmax(q_table[state, :])\n",
    "            else:\n",
    "                # explore\n",
    "                action = env.action_space.sample()\n",
    "            new_state, reward, done, info = env.step(action)\n",
    "            # update Q-table\n",
    "            q_table[state, action] = q_table[state, action]*(1-learning_rate) + \\\n",
    "                                learning_rate * (reward + discount_rate*np.max(q_table[new_state, :]))\n",
    "            state = new_state\n",
    "            rewards_current_episode += reward\n",
    "            if done==True:\n",
    "                break\n",
    "        exploration_rate = min_exploration_rate + (max_exploration_rate-min_exploration_rate)*np.exp(-exploration_decay_rate*episode)\n",
    "        rewards_all_episodes.append(rewards_current_episode)\n",
    "\n",
    "    rewards_per_thousand_episodes = np.split(np.array(rewards_all_episodes), num_episodes/1000)\n",
    "    count = 1000\n",
    "    print('Avg reward per thousand episodes. . .')\n",
    "    for r in rewards_per_thousand_episodes:\n",
    "        print(str(count) + \" : \" + str(sum(r)/1000) )\n",
    "        count+=1000\n",
    "    print('Final Q-table. . .')\n",
    "    print(q_table)"
   ]
  },
  {
   "cell_type": "code",
   "execution_count": 3,
   "metadata": {},
   "outputs": [
    {
     "name": "stdout",
     "output_type": "stream",
     "text": [
      "Avg reward per thousand episodes. . .\n",
      "1000 : 0.073\n",
      "2000 : 0.176\n",
      "3000 : 0.458\n",
      "4000 : 0.653\n",
      "5000 : 0.681\n",
      "6000 : 0.683\n",
      "7000 : 0.672\n",
      "8000 : 0.7\n",
      "9000 : 0.677\n",
      "10000 : 0.671\n",
      "Final Q-table. . .\n",
      "[[0.52361128 0.4926338  0.4754489  0.47199896]\n",
      " [0.28347797 0.25482439 0.17058587 0.43988673]\n",
      " [0.12898662 0.35450424 0.20427519 0.2764791 ]\n",
      " [0.09509045 0.18622603 0.1688444  0.33386656]\n",
      " [0.55181839 0.3240733  0.40375176 0.32693301]\n",
      " [0.         0.         0.         0.        ]\n",
      " [0.15307972 0.15600793 0.29315357 0.04904804]\n",
      " [0.         0.         0.         0.        ]\n",
      " [0.42649661 0.34041215 0.3337783  0.60812451]\n",
      " [0.35568093 0.66722211 0.3667487  0.45235653]\n",
      " [0.60141024 0.36947384 0.26862358 0.31393099]\n",
      " [0.         0.         0.         0.        ]\n",
      " [0.         0.         0.         0.        ]\n",
      " [0.43333664 0.47940719 0.78101413 0.34111795]\n",
      " [0.6957428  0.88678738 0.69898502 0.70256575]\n",
      " [0.         0.         0.         0.        ]]\n"
     ]
    }
   ],
   "source": [
    "q_learn()"
   ]
  },
  {
   "cell_type": "code",
   "execution_count": null,
   "metadata": {},
   "outputs": [],
   "source": [
    "def play():\n",
    "    for episode in range(3):\n",
    "        state = env.reset()\n",
    "        done = False\n",
    "        print(\"Attempt Number : \",episode+1)\n",
    "        time.sleep(1)\n",
    "        \n",
    "        for step in range(max_steps_per_episode):\n",
    "            clear_output(wait=True)\n",
    "            env.render()\n",
    "            time.sleep(0.3)\n",
    "            action = np.argmax(q_table[state, :])\n",
    "            new_state, reward, done, info = env.step(action)\n",
    "            \n",
    "            if done:\n",
    "                clear_output(wait=True)\n",
    "                env.render()\n",
    "                if reward==1:\n",
    "                    print(\"Goal reached. . .\")\n",
    "                else:\n",
    "                    print(\"Mission failed. . .\"\n",
    "                         )"
   ]
  },
  {
   "cell_type": "code",
   "execution_count": null,
   "metadata": {},
   "outputs": [],
   "source": [
    "# Play game\n"
   ]
  },
  {
   "cell_type": "code",
   "execution_count": null,
   "metadata": {},
   "outputs": [],
   "source": []
  }
 ],
 "metadata": {
  "kernelspec": {
   "display_name": "Python 3",
   "language": "python",
   "name": "python3"
  },
  "language_info": {
   "codemirror_mode": {
    "name": "ipython",
    "version": 3
   },
   "file_extension": ".py",
   "mimetype": "text/x-python",
   "name": "python",
   "nbconvert_exporter": "python",
   "pygments_lexer": "ipython3",
   "version": "3.6.9"
  }
 },
 "nbformat": 4,
 "nbformat_minor": 2
}
